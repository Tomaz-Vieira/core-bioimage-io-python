{
 "cells": [
  {
   "cell_type": "code",
   "execution_count": null,
   "metadata": {},
   "outputs": [],
   "source": []
  },
  {
   "cell_type": "code",
   "execution_count": null,
   "metadata": {},
   "outputs": [],
   "source": [
    "from bioimageio.spec.pretty_validation_errors import enable_pretty_validation_errors_in_ipynb\n",
    "\n",
    "enable_pretty_validation_errors_in_ipynb()"
   ]
  },
  {
   "cell_type": "code",
   "execution_count": null,
   "metadata": {},
   "outputs": [],
   "source": [
    "from bioimageio.core import load_description_and_validate"
   ]
  },
  {
   "cell_type": "code",
   "execution_count": null,
   "metadata": {},
   "outputs": [],
   "source": [
    "descr, summary = load_description_and_validate(\"10.5281/zenodo.6559929/6559930/rdf.yaml\")"
   ]
  },
  {
   "cell_type": "code",
   "execution_count": null,
   "metadata": {},
   "outputs": [],
   "source": []
  },
  {
   "cell_type": "code",
   "execution_count": null,
   "metadata": {},
   "outputs": [],
   "source": [
    "# from bioimageio.spec.model.v0_5 import Author, CiteEntry, Model\n",
    "\n",
    "# # id: raw\n",
    "# #     description: raw input\n",
    "# #     axes:\n",
    "# #       - type: batch\n",
    "# #       - type: channel\n",
    "# #         channel_names: [raw_intensity]\n",
    "# #       - type: space # todo: scale/unit\n",
    "# #         name: y\n",
    "# #         size: 512\n",
    "# #       - type: space\n",
    "# #         name: x\n",
    "# #         size: 512\n",
    "# #     test_tensor: test_input.npy\n",
    "# #     sample_tensor: test_input.npy\n",
    "# #     preprocessing: # list of preprocessing steps\n",
    "# #       - id: zero_mean_unit_variance # name of preprocessing step\n",
    "# #         kwargs:\n",
    "# #           mode: per_sample\n",
    "# #           axes: [x, y]\n",
    "\n",
    "# # outputs:\n",
    "# #   - id: probability\n",
    "# #     description: probability in [0,1]\n",
    "# #     data:\n",
    "# #       type: float32\n",
    "# #       range:\n",
    "# #         - 0.0\n",
    "# #         - 1.0\n",
    "# #     axes:\n",
    "# #       - type: batch\n",
    "# #       - type: channel\n",
    "# #         channel_names: [probability]\n",
    "# #       - type: space\n",
    "# #         name: y\n",
    "# #         size: raw.y\n",
    "# #         halo: 32\n",
    "# #       - type: space\n",
    "# #         size: raw.x\n",
    "# #         name: x\n",
    "# #         halo: 32\n",
    "# #     test_tensor: test_output.npy\n",
    "# #     sample_tensor: test_output.npy\n",
    "\n",
    "# # weights:\n",
    "# #   pytorch_state_dict:\n",
    "# #     authors:\n",
    "# #       - name: \"Constantin Pape;@bioimage-io\"\n",
    "# #         affiliation: \"EMBL Heidelberg\"\n",
    "# #         orcid: \"0000-0001-6562-7187\"\n",
    "# #     sha256: e4d3885bccbe41cbf6c1d825f3cd2b707c7021ead5593156007e407a16b27cf2\n",
    "# #     source: https://zenodo.org/record/3446812/files/unet2d_weights.torch\n",
    "# #     architecture:\n",
    "# #       callable: unet2d.py:UNet2d\n",
    "# #       sha256: cf42a6d86adeb4eb6e8e37b539a20e5413866b183bed88f4e2e26ad1639761ed\n",
    "# #       kwargs: { input_channels: 1, output_channels: 1 }\n",
    "# #     dependencies: conda:environment.yaml\n",
    "# #     pytorch_version: \"1.5.1\"\n",
    "# #   onnx:\n",
    "# #     sha256: f1f086d5e340f9d4d7001a1b62a2b835f9b87a2fb5452c4fe7d8cc821bdf539c\n",
    "# #     source: weights.onnx\n",
    "# #     opset_version: 12\n",
    "# #     parent: pytorch_state_dict\n",
    "# #   torchscript:\n",
    "# #     sha256: 62fa1c39923bee7d58a192277e0dd58f2da9ee810662addadd0f44a3784d9210\n",
    "# #     source: weights.pt\n",
    "# #     parent: pytorch_state_dict\n",
    "# #     pytorch_version: \"1.5.1\"\n",
    "\n",
    "\n",
    "# my_model = Model(\n",
    "#     name=\"UNet 2D Nuclei Broad\",\n",
    "#     version=\"0.2.0\",\n",
    "#     description=\"A 2d U-Net trained on the nuclei broad dataset.\",\n",
    "#     documentation=\"README.md\",\n",
    "#     authors=(\n",
    "#         Author(\n",
    "#             name=\"Constantin Pape\",\n",
    "#             affiliation=\"EMBL Heidelberg\",\n",
    "#             orcid=\"0000-0001-6562-7187\",\n",
    "#         ),\n",
    "#         Author(\n",
    "#             name=\"Fynn Beuttenmueller\",\n",
    "#             affiliation=\"EMBL Heidelberg\",\n",
    "#             orcid=\"0000-0002-8567-6389\",\n",
    "#         ),\n",
    "#     ),\n",
    "#     cite=(CiteEntry(text=\"bioimage.io\", doi=\"10.1101/2022.06.07.495102\"),),\n",
    "#     inputs=(),\n",
    "#     outputs=(),\n",
    "#     timestamp=\"2019-12-11T12:22:32\",\n",
    "#     training_data={\"id\": \"ilastik/covid_if_training_data\"},  # note: not the real training data\n",
    "#     license=\"MIT\",\n",
    "#     )"
   ]
  },
  {
   "cell_type": "code",
   "execution_count": null,
   "metadata": {},
   "outputs": [],
   "source": []
  },
  {
   "cell_type": "code",
   "execution_count": null,
   "metadata": {},
   "outputs": [],
   "source": []
  },
  {
   "cell_type": "code",
   "execution_count": null,
   "metadata": {},
   "outputs": [],
   "source": []
  },
  {
   "cell_type": "code",
   "execution_count": null,
   "metadata": {},
   "outputs": [],
   "source": []
  },
  {
   "cell_type": "code",
   "execution_count": null,
   "metadata": {},
   "outputs": [],
   "source": []
  },
  {
   "cell_type": "code",
   "execution_count": null,
   "metadata": {},
   "outputs": [],
   "source": []
  },
  {
   "cell_type": "code",
   "execution_count": null,
   "metadata": {},
   "outputs": [],
   "source": [
    "my_model"
   ]
  },
  {
   "cell_type": "code",
   "execution_count": null,
   "metadata": {},
   "outputs": [],
   "source": []
  },
  {
   "cell_type": "code",
   "execution_count": null,
   "metadata": {},
   "outputs": [],
   "source": []
  },
  {
   "cell_type": "code",
   "execution_count": null,
   "metadata": {},
   "outputs": [],
   "source": [
    "import xarray as xr\n",
    "\n",
    "a = xr.DataArray([[1, 2], [3, 4]], dims=(\"x\", \"y\"))\n",
    "a[{\"x\": slice(None)}]"
   ]
  }
 ],
 "metadata": {
  "kernelspec": {
   "display_name": "bio38",
   "language": "python",
   "name": "python3"
  },
  "language_info": {
   "codemirror_mode": {
    "name": "ipython",
    "version": 3
   },
   "file_extension": ".py",
   "mimetype": "text/x-python",
   "name": "python",
   "nbconvert_exporter": "python",
   "pygments_lexer": "ipython3",
   "version": "3.8.17"
  },
  "orig_nbformat": 4
 },
 "nbformat": 4,
 "nbformat_minor": 2
}
