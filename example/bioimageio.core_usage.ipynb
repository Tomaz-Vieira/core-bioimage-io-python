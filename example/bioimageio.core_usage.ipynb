{
 "cells": [
  {
   "cell_type": "markdown",
   "metadata": {},
   "source": []
  },
  {
   "cell_type": "markdown",
   "metadata": {},
   "source": [
    "# Bioimage Model Zoo Core  Example notebook\n",
    "\n",
    "This notebook shows how to interact with the `bioimageio.core` programmatically to explore, load, use, and export content from the [BioImage Model Zoo](https://bioimage.io).\""
   ]
  },
  {
   "cell_type": "markdown",
   "metadata": {},
   "source": [
    "## 0. Activate human readable output error messages and load dependencies"
   ]
  },
  {
   "cell_type": "markdown",
   "metadata": {},
   "source": [
    "If the notebook is being run on Google Colab, install necessary dependencies"
   ]
  },
  {
   "cell_type": "code",
   "execution_count": null,
   "metadata": {},
   "outputs": [],
   "source": [
    "import os\n",
    "\n",
    "if os.getenv(\"COLAB_RELEASE_TAG\"):\n",
    "     %pip install bioimageio.core torch onnxruntime"
   ]
  },
  {
   "cell_type": "markdown",
   "metadata": {},
   "source": [
    "Enable pretty validation errors"
   ]
  },
  {
   "cell_type": "code",
   "execution_count": null,
   "metadata": {},
   "outputs": [],
   "source": [
    "# enable pretty validation errors in ipynb\n",
    "from bioimageio.spec.pretty_validation_errors import (\n",
    "    enable_pretty_validation_errors_in_ipynb,\n",
    ")\n",
    "enable_pretty_validation_errors_in_ipynb()"
   ]
  },
  {
   "cell_type": "markdown",
   "metadata": {},
   "source": [
    "Load general dependencies"
   ]
  },
  {
   "cell_type": "code",
   "execution_count": null,
   "metadata": {},
   "outputs": [],
   "source": [
    "# Load general dependencies\n",
    "from pathlib import Path\n",
    "from ruyaml import YAML\n",
    "from imageio.v2 import imread\n",
    "from devtools import pprint\n",
    "from bioimageio.spec.utils import download\n",
    "from bioimageio.core import Tensor\n",
    "from typing import Any, Dict, Union\n",
    "from numpy.typing import NDArray\n",
    "import matplotlib.pyplot as plt\n",
    "\n",
    "# helper function for showing multiple images in napari\n",
    "try:\n",
    "    import napari\n",
    "except ImportError:\n",
    "\n",
    "    def show_images(images: Dict[str, Union[Tensor, NDArray[Any], Path]]):\n",
    "        for name, im in images.items():\n",
    "            if isinstance(im, Path):\n",
    "                im = imageio.imread(im)\n",
    "            elif isinstance(im, Tensor):\n",
    "                im = im.data\n",
    "            print(f\"{name}: {im.shape}\")\n",
    "\n",
    "else:\n",
    "    def show_images(images: Dict[str, Union[Tensor, NDArray[Any], Path]]):\n",
    "        v = napari.Viewer()\n",
    "        for name, im in images.items():\n",
    "            if isinstance(im, Path):\n",
    "                im = imageio.imread(im)\n",
    "            elif isinstance(im, Tensor):\n",
    "                im = im.data\n",
    "            print(f\"napari viewer: adding {name}\")\n",
    "            v.add_image(im, name=name)"
   ]
  },
  {
   "cell_type": "markdown",
   "metadata": {},
   "source": [
    "## 1. Load a model"
   ]
  },
  {
   "cell_type": "markdown",
   "metadata": {},
   "source": [
    "### 1.1 Inspect available models in the Bioimage Model Zoo"
   ]
  },
  {
   "cell_type": "markdown",
   "metadata": {},
   "source": [
    "Go to https://bioimage.io to browser available models"
   ]
  },
  {
   "cell_type": "raw",
   "metadata": {
    "vscode": {
     "languageId": "raw"
    }
   },
   "source": [
    "yaml = YAML(typ=\"safe\")\n",
    "\n",
    "COLLECTION_URL = \"https://raw.githubusercontent.com/bioimage-io/collection-bioimage-io/gh-pages/collection.json\"\n",
    "\n",
    "collection_path = Path(pooch.retrieve(COLLECTION_URL, known_hash=None))\n",
    "\n",
    "with collection_path.open() as f:\n",
    "\n",
    "    collection = json.load(f)\n",
    "\n",
    "model_urls = [entry[\"rdf_source\"] for entry in collection[\"collection\"] if entry[\"type\"] == \"model\"]\n",
    "model_rdfs = [yaml.load(Path(pooch.retrieve(mu, known_hash=None))) for mu in model_urls]\n",
    "\n",
    "print(\"All models checked.\")\n",
    "\n",
    "# nickname_list = []\n",
    "print('List of models in BioImageIO:\\n')\n",
    "for model in model_rdfs:\n",
    "    # nickname_list.append(model['config']['bioimageio']['nickname'])\n",
    "    print(f\"{model['name']}\\n - {model['config']['bioimageio']['nickname']}\\n - {model['config']['bioimageio']['doi']}\")"
   ]
  },
  {
   "cell_type": "markdown",
   "metadata": {},
   "source": [
    "### 1.2 Load model from the BioImage Model Zoo"
   ]
  },
  {
   "cell_type": "markdown",
   "metadata": {},
   "source": [
    "Bioimage Model Zoo Models can be loaded via the model __nickname ID__, the __DOI__ or the __URL__ of the model's rdf.yaml file. \n",
    "To use a local model file, you can provide the path to the model __rdf.yaml__, or a .zip containing the rdf.yaml.\n",
    "\n",
    "__WARNING__ Using a draft version of the model is not recommended, this version as not been reviewed by the BioImage Model Zoo team and may contain harmful code. Use at your own risk."
   ]
  },
  {
   "cell_type": "code",
   "execution_count": null,
   "metadata": {},
   "outputs": [],
   "source": [
    "BMZ_MODEL_ID = \"\"#\"affable-shark\"\n",
    "BMZ_MODEL_DOI = \"\" #\"10.5281/zenodo.6287342\"\n",
    "BMZ_MODEL_URL = \"https://uk1s3.embassy.ebi.ac.uk/public-datasets/bioimage.io/affable-shark/draft/files/rdf.yaml\""
   ]
  },
  {
   "cell_type": "markdown",
   "metadata": {},
   "source": [
    "load_description is a function of the `bioimageio.spec` package, but as it is a sub-package of `bioimageio.core` it can be called as `bioimageio.core.load_description`.\n",
    "To learn more about the functionalities of the `bioimageio.spec` package, see the [bioimageio.spec package example notebook](https://github.com/bioimage-io/spec-bioimage-io/blob/main/example/load_model_and_create_your_own.ipynb), also available as a [Google Colab](https://colab.research.google.com/github/bioimage-io/spec-bioimage-io/blob/main/example/load_model_and_create_your_own.ipynb) notebook."
   ]
  },
  {
   "cell_type": "code",
   "execution_count": null,
   "metadata": {},
   "outputs": [],
   "source": [
    "from bioimageio.core import load_description\n",
    "\n",
    "# Load the model description\n",
    "# ------------------------------------------------------------------------------\n",
    "if BMZ_MODEL_ID != \"\":\n",
    "    model = load_description(BMZ_MODEL_ID)  \n",
    "    print(f\"\\nThe model '{model.name}' with ID '{BMZ_MODEL_ID}' has been correctly loaded.\")\n",
    "elif BMZ_MODEL_DOI != \"\":\n",
    "    model = load_description(BMZ_MODEL_DOI)  \n",
    "    print(f\"\\nThe model '{model.name}' with DOI '{BMZ_MODEL_DOI}' has been correctly loaded.\")\n",
    "elif BMZ_MODEL_URL != \"\":\n",
    "    model = load_description(BMZ_MODEL_URL)  \n",
    "    print(f\"\\nThe model '{model.name}' with URL '{BMZ_MODEL_URL}' has been correctly loaded.\")\n",
    "else:\n",
    "    print('\\nPlease specify a model ID, DOI or URL')\n",
    "\n",
    "if \"draft\" in BMZ_MODEL_ID or \"draft\" in BMZ_MODEL_DOI or \"draft\" in BMZ_MODEL_URL:\n",
    "    print(f\"\\nThis is the DRAFT version of '{model.name}'. \\nDraft versions have not been reviewed by the Bioimage Model Zoo Team and may contain harmful code. Run with caution.\")\n",
    "\n",
    "# To be added later:\n",
    "# elif model.version != model.lastest_version:\n",
    "#   print('\\nThe loaded version of the model is: ' + model.version, 'but the latest version of the model is: ' + model.lastest_version)\n",
    "\n",
    "# TODO: on the model loading success responses add version loaded\n",
    "\n"
   ]
  },
  {
   "cell_type": "markdown",
   "metadata": {},
   "source": [
    "### 1.3 Inspect the model metadata"
   ]
  },
  {
   "cell_type": "code",
   "execution_count": null,
   "metadata": {},
   "outputs": [],
   "source": [
    "print(f\"The model '{model.name}' has the following properties and metadata\\n\")\n",
    "print(f\" Description:\") \n",
    "pprint(model.description)\n",
    "\n",
    "print(\"\\n The authors of the model are: \")\n",
    "pprint(model.authors)\n",
    "\n",
    "print(\"\\n It is maintained by:\")\n",
    "pprint(model.maintainers)\n",
    "\n",
    "pprint(\"\\n License: \")\n",
    "pprint(model.license)\n",
    "\n",
    "print(\"\\n If you use this model, you are expected to cite it as: \")\n",
    "pprint(model.cite)\n",
    "\n",
    "print(f\"\\n Further documentation can be found here: {model.documentation.absolute()}\")\n",
    "\n",
    "if model.git_repo == None:\n",
    "    print(f\"\\nNo associated GitHub repository.\")\n",
    "else:\n",
    "    print(f\"\\n GitHub repository: \")\n",
    "    pprint(model.git_repo)\n",
    "\n",
    "print(f\"\\n Covers of the model '{model.name}' are: \")\n",
    "for cover in model.covers:\n",
    "    cover_data = imread(download(cover).path)\n",
    "    plt.figure(figsize=(10, 10))\n",
    "    plt.imshow(cover_data)\n",
    "    plt.xticks([])\n",
    "    plt.yticks([])\n",
    "    plt.show()\n"
   ]
  },
  {
   "cell_type": "markdown",
   "metadata": {},
   "source": [
    "### 1.4 Get expected model inputs and outputs"
   ]
  },
  {
   "cell_type": "markdown",
   "metadata": {},
   "source": [
    "Each model expects Inputs and returns Outputs with specific features. The following code shows how to get the full metadata of the expected inputs and outputs of the model."
   ]
  },
  {
   "cell_type": "code",
   "execution_count": null,
   "metadata": {},
   "outputs": [],
   "source": [
    "print(f\"Model '{model.name}' requires {len(model.inputs)} input(s) with the following features:\")\n",
    "for ipt in model.inputs:\n",
    "    print(f\"\\ninput '{ipt.id}' with axes:\")\n",
    "    pprint(ipt.axes)\n",
    "    print(f\"Data description: {ipt.data}\")\n",
    "    print(f\"Test tensor available at:  {ipt.test_tensor.source.absolute()}\")\n",
    "    if len(ipt.preprocessing) > 1:\n",
    "        print(\"This input is preprocessed with: \")\n",
    "        for p in ipt.preprocessing:\n",
    "            print(p)\n",
    "\n",
    "print(\"\\n-------------------------------------------------------------------------------\")\n",
    "# # and what the model outputs are\n",
    "print(f\"Model '{model.name}' requires {len(model.outputs)} output(s) with the following features:\")\n",
    "for out in model.outputs:\n",
    "    print(f\"\\noutput '{out.id}' with axes:\")\n",
    "    pprint(out.axes)\n",
    "    print(f\"Data description: {out.data}\")\n",
    "    print(f\"Test tensor available at:  {out.test_tensor.source.absolute()}\")\n",
    "    if len(out.postprocessing) > 1:\n",
    "        print(\"This output is postprocessed with: \")\n",
    "        for p in out.postprocessing:\n",
    "            print(p)"
   ]
  },
  {
   "cell_type": "markdown",
   "metadata": {},
   "source": [
    "## 2. Test the model"
   ]
  },
  {
   "cell_type": "markdown",
   "metadata": {},
   "source": [
    "The `bioimageio.core.test_model` function can be used to fully test the model.\n",
    "This is done by running the predicition on the test input(s) and checking that they agree with the test output(s) provided in the model documentation.\n",
    "\n",
    "This test should be run before using the model to ensure that it works properly.\n",
    "\n",
    "`bioimageio.core.test_model` returns a dictionary with 'status'='passed'/'failed' and other detailed information."
   ]
  },
  {
   "cell_type": "code",
   "execution_count": null,
   "metadata": {},
   "outputs": [],
   "source": [
    "from bioimageio.core import test_model\n",
    "\n",
    "test_summary = test_model(model)\n",
    "test_summary.display()"
   ]
  },
  {
   "cell_type": "markdown",
   "metadata": {},
   "source": [
    "## 3. Running a prediction"
   ]
  },
  {
   "cell_type": "markdown",
   "metadata": {},
   "source": [
    "`bioimageio.core` implements functionality to run a prediction with models described in the `bioimage.io` format.\n",
    "\n",
    "This includes functions to run predictions on `numpy.ndarray`s/`xarray.DataArrays` as input and convenience functions to run predictions for images stored on disc.\n",
    "\n",
    "### 3.1. Load the test image and convert into a tensor"
   ]
  },
  {
   "cell_type": "code",
   "execution_count": null,
   "metadata": {},
   "outputs": [],
   "source": [
    "from bioimageio.spec.utils import load_array\n",
    "from bioimageio.spec.model import v0_5\n",
    "\n",
    "assert isinstance(model, v0_5.ModelDescr)\n",
    "input_image = load_array(model.inputs[0].test_tensor)\n",
    "print(f\"array shape: {input_image.shape}\")"
   ]
  },
  {
   "cell_type": "markdown",
   "metadata": {},
   "source": [
    "Create a `Tensor` (light wrapper around an `xarray.DataArray`) from the test input image. \n",
    "\n",
    "`bioimageio.core.Tensors/xarray.DataArrays` are like numpy arrays, but they have annotated axes.\n",
    "\n",
    "The axes are used to validate that the axes of the input image match the axes expected by the model."
   ]
  },
  {
   "cell_type": "code",
   "execution_count": null,
   "metadata": {},
   "outputs": [],
   "source": [
    "from bioimageio.core import Tensor\n",
    "\n",
    "test_input_tensor = Tensor.from_numpy(input_image, dims=model.inputs[0].axes)\n",
    "\n",
    "# print the axis annotations ('dims') and the shape of the input array\n",
    "print(f\"tensor shape: {test_input_tensor.tagged_shape}\")"
   ]
  },
  {
   "cell_type": "markdown",
   "metadata": {},
   "source": [
    "A collection of tensors is called a `Sample`.\n",
    "\n",
    "In the case of the `affable-shark` model it only has one input, but for models with multiple inputs a `Sample` includes a tensor for each input."
   ]
  },
  {
   "cell_type": "code",
   "execution_count": null,
   "metadata": {},
   "outputs": [],
   "source": [
    "from bioimageio.core import Sample\n",
    "\n",
    "sample = Sample(members={\"raw\": test_input_tensor}, stat=None, id=\"sample-from-numpy\")\n",
    "\n",
    "sample"
   ]
  },
  {
   "cell_type": "markdown",
   "metadata": {},
   "source": [
    "`bioimageio.core` provides a helper function `create_sample_for_model` to automatically create the `Sample` for the given model."
   ]
  },
  {
   "cell_type": "code",
   "execution_count": null,
   "metadata": {},
   "outputs": [],
   "source": [
    "from bioimageio.core.digest_spec import create_sample_for_model\n",
    "from bioimageio.spec.utils import download\n",
    "\n",
    "input_paths = {ipt.id: download(ipt.test_tensor).path for ipt in model.inputs}\n",
    "print(f\"input paths: {input_paths}\")\n",
    "assert isinstance(model, v0_5.ModelDescr)\n",
    "sample = create_sample_for_model(\n",
    "    model=model, inputs=input_paths, sample_id=\"my_demo_sample\"\n",
    ")\n",
    "\n",
    "sample"
   ]
  },
  {
   "cell_type": "markdown",
   "metadata": {},
   "source": [
    "There is also  a helper function `get_test_inputs` to directly import the test input sample for a given model."
   ]
  },
  {
   "cell_type": "code",
   "execution_count": null,
   "metadata": {},
   "outputs": [],
   "source": [
    "from bioimageio.core.digest_spec import get_test_inputs\n",
    "\n",
    "test_sample = get_test_inputs(model)\n",
    "\n",
    "test_sample"
   ]
  },
  {
   "cell_type": "markdown",
   "metadata": {},
   "source": [
    "### 3.2. Create a prediciton pipeline\n",
    "\n",
    "The `prediction_pipeline` function is used to run a prediction with a given model.\n",
    "\n",
    "It applies the __pre-processing__, if indicated in the model rdf.yaml, runs __inference__ with the model and applies the __post-processing__, again if specified in the model rdf.yaml.\n",
    "\n",
    "The `devices` argument can be used to specify which device(s), CPU, a single GPU, or multiple GPUs (not implemented yet), to use for inference with the model.\n",
    "\n",
    "The default is `devices=None`, this will use a __GPU__ if available, otherwise it uses the __CPU__.\n",
    "\n",
    "\n",
    "The `weight_format` argument can be used to specify which of the model's available weight formats to use.\n",
    "\n",
    "The deafult is `weight_format=None`, this will use the weight format with highest priority (as defined by bioimageio.core).\n",
    "\n"
   ]
  },
  {
   "cell_type": "code",
   "execution_count": null,
   "metadata": {},
   "outputs": [],
   "source": [
    "from bioimageio.core import create_prediction_pipeline\n",
    "\n",
    "devices = None\n",
    "weight_format = None\n",
    "\n",
    "prediction_pipeline = create_prediction_pipeline(\n",
    "    model, devices=devices, weight_format=weight_format\n",
    ")"
   ]
  },
  {
   "cell_type": "markdown",
   "metadata": {},
   "source": [
    "Use the new prediction pipeline to run a prediction for the previously loaded test image.\n",
    "\n",
    "The prediction pipeline returns a `Sample` object, which will be displayed via napari."
   ]
  },
  {
   "cell_type": "code",
   "execution_count": null,
   "metadata": {},
   "outputs": [],
   "source": [
    "prediction: Sample = prediction_pipeline.predict_sample_without_blocking(sample)\n",
    "\n",
    "# show the prediction result\n",
    "show_images({**sample.members, **prediction.members})"
   ]
  },
  {
   "cell_type": "markdown",
   "metadata": {},
   "source": [
    "### 3.3. Prediction without a PredicitionPipeline\n",
    "\n",
    "`bioimageio.core` has two convenience functions `predict` and `predict_many` which allow the prediction of images without creating a `PredictionPipeline`."
   ]
  },
  {
   "cell_type": "code",
   "execution_count": null,
   "metadata": {},
   "outputs": [],
   "source": [
    "from bioimageio.core import predict  # , predict_many\n",
    "\n",
    "# predict_many(model=model, inputs=[sample])\n",
    "\n",
    "prediction: Sample = predict(model=model, inputs=sample)\n",
    "\n",
    "# show the prediction result\n",
    "show_images({**sample.members, **prediction.members})"
   ]
  }
 ],
 "metadata": {
  "kernelspec": {
   "display_name": "bioimageio-core",
   "language": "python",
   "name": "python3"
  },
  "language_info": {
   "codemirror_mode": {
    "name": "ipython",
    "version": 3
   },
   "file_extension": ".py",
   "mimetype": "text/x-python",
   "name": "python",
   "nbconvert_exporter": "python",
   "pygments_lexer": "ipython3",
   "version": "3.11.9"
  }
 },
 "nbformat": 4,
 "nbformat_minor": 2
}
