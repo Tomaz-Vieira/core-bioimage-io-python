{
 "cells": [
  {
   "cell_type": "markdown",
   "metadata": {},
   "source": []
  },
  {
   "cell_type": "markdown",
   "metadata": {},
   "source": [
    "# Bioimage Model Zoo Example notebook\n",
    "\n",
    "This notebook shows how to interact with the `bioimgaeio.core` programmatically to explore, load, and export content from the [BioImage Model Zoo](https://bioimage.io).\""
   ]
  },
  {
   "cell_type": "markdown",
   "metadata": {},
   "source": [
    "## 0. Activate human readable output error messages and load dependencies"
   ]
  },
  {
   "cell_type": "code",
   "execution_count": 6,
   "metadata": {},
   "outputs": [],
   "source": [
    "from bioimageio.spec.pretty_validation_errors import (\n",
    "    enable_pretty_validation_errors_in_ipynb,\n",
    ")\n",
    "enable_pretty_validation_errors_in_ipynb()\n",
    "\n",
    "from pathlib import Path\n",
    "from ruyaml import YAML\n",
    "from imageio import imread\n",
    "import pooch\n",
    "import json\n",
    "\n",
    "\n",
    "import bioimageio.core\n",
    "from bioimageio.spec.utils import download\n",
    "\n",
    "\n",
    "#import hashlib\n",
    "#import os\n",
    "\n",
    "# we use napari for visualising images, you can install it via `pip install napari` or`conda install napari`\n",
    "#import napari\n",
    "#import numpy as np\n",
    "#import xarray as xr\n",
    "\n",
    "#import onnx\n",
    "#import torch\n",
    "#import matplotlib.pyplot as plt\n",
    "\n",
    "\n",
    "\n",
    "# helper function for showing multiple images in napari\n",
    "def show_images(*images, names=None):\n",
    "    v = napari.Viewer()\n",
    "    for i, im in enumerate(images):\n",
    "        name = None if names is None else names[i]\n",
    "        if isinstance(im, str):\n",
    "            im = imageio.imread(im)\n",
    "        v.add_image(im, name=name)\n"
   ]
  },
  {
   "cell_type": "markdown",
   "metadata": {},
   "source": [
    "## 1. Load a model"
   ]
  },
  {
   "cell_type": "markdown",
   "metadata": {},
   "source": [
    "### 1.1 Inspect available models in the Bioimage Model Zoo"
   ]
  },
  {
   "cell_type": "code",
   "execution_count": 2,
   "metadata": {},
   "outputs": [
    {
     "name": "stdout",
     "output_type": "stream",
     "text": [
      "All models checked.\n",
      "List of models in BioImageIO:\n",
      "\n",
      "NucleiSegmentationBoundaryModel\n",
      " - affable-shark\n",
      " - 10.5281/zenodo.6647674\n",
      "StarDist H&E Nuclei Segmentation\n",
      " - chatty-frog\n",
      " - 10.5281/zenodo.6338615\n",
      "LiveCellSegmentationBoundaryModel\n",
      " - hiding-tiger\n",
      " - 10.5281/zenodo.6647688\n",
      "Neuron Segmentation in EM (Membrane Prediction)\n",
      " - impartial-shrimp\n",
      " - 10.5281/zenodo.5874742\n",
      "Pancreatic Phase Contrast Cell Segmentation (U-Net)\n",
      " - discreet-rooster\n",
      " - 10.5281/zenodo.8186255\n",
      "EnhancerMitochondriaEM2D\n",
      " - hiding-blowfish\n",
      " - 10.5281/zenodo.6811922\n",
      "MitochondriaEMSegmentationBoundaryModel\n",
      " - kind-seashell\n",
      " - 10.5281/zenodo.6630266\n",
      "Cell Segmentation from Membrane Staining for Plant Tissues\n",
      " - humorous-owl\n",
      " - 10.5281/zenodo.5888237\n",
      "PlatynereisEMnucleiSegmentationBoundaryModel\n",
      " - organized-badger\n",
      " - 10.5281/zenodo.6028098\n",
      "StarDist Fluorescence Nuclei Segmentation\n",
      " - fearless-crab\n",
      " - 10.5281/zenodo.6348085\n",
      "B. Sutilist bacteria segmentation - Widefield microscopy - 2D UNet\n",
      " - placid-llama\n",
      " - 10.5281/zenodo.7782776\n",
      "PlatynereisEMcellsSegmentationBoundaryModel\n",
      " - willing-hedgehog\n",
      " - 10.5281/zenodo.6647695\n",
      "HPA Cell Segmentation (DPNUnet)\n",
      " - loyal-parrot\n",
      " - 10.5281/zenodo.7702687\n",
      "3D UNet Arabidopsis Apical Stem Cells\n",
      " - emotional-cricket\n",
      " - 10.5281/zenodo.7768142\n",
      "Arabidopsis Leaf Segmentation\n",
      " - non-judgemental-eagle\n",
      " - 10.5281/zenodo.6348729\n",
      "Neuron Segmentation in 2D EM (Membrane)\n",
      " - creative-panda\n",
      " - 10.5281/zenodo.5906839\n",
      "CovidIFCellSegmentationBoundaryModel\n",
      " - powerful-chipmunk\n",
      " - 10.5281/zenodo.6647683\n",
      "MitchondriaEMSegmentation2D\n",
      " - shivering-raccoon\n",
      " - 10.5281/zenodo.6406804\n",
      "HPA Nucleus Segmentation (DPNUnet)\n",
      " - conscientious-seashell\n",
      " - 10.5281/zenodo.7690494\n",
      "3D UNet Mouse Embryo Live\n",
      " - powerful-fish\n",
      " - 10.5281/zenodo.7774490\n",
      "3D UNet Mouse Embryo Fixed\n",
      " - loyal-squid\n",
      " - 10.5281/zenodo.7774505\n",
      "EpitheliaAffinityModel\n",
      " - wild-whale\n",
      " - 10.5281/zenodo.7695872\n",
      "2D UNet Arabidopsis Ovules\n",
      " - pioneering-rhino\n",
      " - 10.5281/zenodo.7805067\n",
      "3D UNet Lateral Root Primordia Cells\n",
      " - thoughtful-turtle\n",
      " - 10.5281/zenodo.7765026\n",
      "2D UNet Arabidopsis Apical Stem Cells\n",
      " - laid-back-lobster\n",
      " - 10.5281/zenodo.7805026\n",
      "HPA Bestfitting InceptionV3\n",
      " - straightforward-crocodile\n",
      " - 10.5281/zenodo.6539073\n",
      "3D UNet Arabidopsis Ovules\n",
      " - passionate-t-rex\n",
      " - 10.5281/zenodo.7805434\n",
      "EnhancerMitochondriaEM3D\n",
      " - independent-shrimp\n",
      " - 10.5281/zenodo.6811492\n",
      "Small Extracellular Vesicle TEM Segmentation (Fully Residual U-Net)\n",
      " - naked-microbe\n",
      " - 10.5281/zenodo.6559475\n",
      "HPA Bestfitting Densenet\n",
      " - polite-pig\n",
      " - 10.5281/zenodo.5942853\n",
      "Cells and gland Segmentation (FRUNet)\n",
      " - impartial-shark\n",
      " - 10.5281/zenodo.6919253\n",
      "CebraNET Cellular Membranes in Volume SEM\n",
      " - joyful-deer\n",
      " - 10.5281/zenodo.8123818\n",
      "EM3DBoundaryEnhancer\n",
      " - determined-chipmunk\n",
      " - 10.5281/zenodo.6808413\n",
      "EmbryoNet base model\n",
      " - nice-peacock\n",
      " - 10.5281/zenodo.7315441\n",
      "HyLFM-Net-stat\n",
      " - ambitious-sloth\n",
      " - 10.5281/zenodo.7642674\n",
      "Drosophila epithelia cell boundary segmentation of 2D projections\n",
      " - easy-going-sauropod\n",
      " - 10.5281/zenodo.7405349\n",
      "3D UNet Arabidopsis Ovules Nuclei\n",
      " - noisy-fish\n",
      " - 10.5281/zenodo.7781091\n",
      "Mitochondria resolution enhancement Wasserstein GAN\n",
      " - organized-cricket\n",
      " - 10.5281/zenodo.7786493\n",
      "StarDist Plant Nuclei 3D ResNet\n",
      " - modest-octopus\n",
      " - 10.5281/zenodo.8432366\n",
      "2D UNet for label-free prediction of mCherry-H2B\n",
      " - noisy-hedgehog\n",
      " - 10.5281/zenodo.8073617\n",
      "UniFMIRSuperResolutionOnMicrotubules\n",
      " - ambitious-ant\n",
      " - 10.5281/zenodo.8420081\n",
      "UniFMIRSuperResolutionOnFactin\n",
      " - courteous-otter\n",
      " - 10.5281/zenodo.8420100\n",
      "PlantSeg Plant Nuclei 3D UNet\n",
      " - efficient-chipmunk\n",
      " - 10.5281/zenodo.8429203\n",
      "EnhancerBoundaryEM2D\n",
      " - amiable-crocodile\n",
      " - 10.5281/zenodo.8171247\n"
     ]
    }
   ],
   "source": [
    "yaml = YAML(typ=\"safe\")\n",
    "\n",
    "COLLECTION_URL = \"https://raw.githubusercontent.com/bioimage-io/collection-bioimage-io/gh-pages/collection.json\"\n",
    "\n",
    "collection_path = Path(pooch.retrieve(COLLECTION_URL, known_hash=None))\n",
    "\n",
    "with collection_path.open() as f:\n",
    "\n",
    "    collection = json.load(f)\n",
    "\n",
    "model_urls = [entry[\"rdf_source\"] for entry in collection[\"collection\"] if entry[\"type\"] == \"model\"]\n",
    "model_rdfs = [yaml.load(Path(pooch.retrieve(mu, known_hash=None))) for mu in model_urls]\n",
    "\n",
    "print(\"All models checked.\")\n",
    "\n",
    "# nickname_list = []\n",
    "print('List of models in BioImageIO:\\n')\n",
    "for model in model_rdfs:\n",
    "    # nickname_list.append(model['config']['bioimageio']['nickname'])\n",
    "    print(f\"{model['name']}\\n - {model['config']['bioimageio']['nickname']}\\n - {model['config']['bioimageio']['doi']}\")"
   ]
  },
  {
   "cell_type": "markdown",
   "metadata": {},
   "source": [
    "### 1.2 Load model from the BioImage Model Zoo"
   ]
  },
  {
   "cell_type": "code",
   "execution_count": 3,
   "metadata": {},
   "outputs": [
    {
     "name": "stderr",
     "output_type": "stream",
     "text": [
      "\u001b[32m2024-05-09 19:05:22.177\u001b[0m | \u001b[1mINFO    \u001b[0m | \u001b[36mbioimageio.spec._internal.io_utils\u001b[0m:\u001b[36mopen_bioimageio_yaml\u001b[0m:\u001b[36m115\u001b[0m - \u001b[1m🦈 loading affable-shark 1 from https://uk1s3.embassy.ebi.ac.uk/public-datasets/bioimage.io/affable-shark/1/files/rdf.yaml\u001b[0m\n"
     ]
    },
    {
     "name": "stdout",
     "output_type": "stream",
     "text": [
      "The model 'NucleiSegmentationBoundaryModel' with ID 'affable-shark' has been correctly loaded.\n"
     ]
    }
   ],
   "source": [
    "BMZ_MODEL_ID = \"affable-shark\" \n",
    "BMZ_MODEL_DOI = \"\" \n",
    "BMZ_MODEL_URL = \"\" \n",
    "\n",
    "# Load the model description\n",
    "# ------------------------------------------------------------------------------\n",
    "\n",
    "if BMZ_MODEL_ID != \"\":\n",
    "    model = bioimageio.core.load_description(BMZ_MODEL_ID)  # TODO: load from bioimageio id\n",
    "    print(f\"The model '{model.name}' with ID '{BMZ_MODEL_ID}' has been correctly loaded.\")\n",
    "elif BMZ_MODEL_DOI != \"\":\n",
    "    model = bioimageio.core.load_description(BMZ_MODEL_DOI)  # TODO: load from bioimageio id\n",
    "    print(f\"The model '{model.name}' with DOI '{BMZ_MODEL_DOI}' has been correctly loaded.\")\n",
    "elif BMZ_MODEL_URL != \"\":\n",
    "    model = bioimageio.core.load_description(BMZ_MODEL_URL)  # TODO: load from bioimageio id\n",
    "    print(f\"The model '{model.name}' with URL '{BMZ_MODEL_URL}' has been correctly loaded.\")\n",
    "else:\n",
    "    print('Please specify a model ID, DOI or URL')"
   ]
  },
  {
   "cell_type": "code",
   "execution_count": 7,
   "metadata": {},
   "outputs": [
    {
     "name": "stdout",
     "output_type": "stream",
     "text": [
      "The model 'NucleiSegmentationBoundaryModel' had the following properties and metadata\n",
      "\n",
      " Description Nucleus segmentation for fluorescence microscopy\n",
      "\n",
      " The authors of the model are [Author(affiliation='EMBL Heidelberg', email=None, orcid=None, name='Constantin Pape', github_user=None)]\n",
      " and it is maintained by: [Maintainer(affiliation=None, email=None, orcid=None, name='Constantin Pape', github_user='constantinpape')]\n",
      " License: CC-BY-4.0\n",
      "\n",
      " If you use this model, you are expected to cite [CiteEntry(text='training library', doi=None, url='https://doi.org/10.5281/zenodo.5108853'), CiteEntry(text='architecture', doi=None, url='https://doi.org/10.1007/978-3-319-24574-4_28'), CiteEntry(text='segmentation algorithm', doi=None, url='https://doi.org/10.1038/nmeth.4151'), CiteEntry(text='data', doi=None, url='https://www.nature.com/articles/s41592-019-0612-7')]\n",
      "\n",
      " Further documentation can be found here: [CiteEntry(text='training library', doi=None, url='https://doi.org/10.5281/zenodo.5108853'), CiteEntry(text='architecture', doi=None, url='https://doi.org/10.1007/978-3-319-24574-4_28'), CiteEntry(text='segmentation algorithm', doi=None, url='https://doi.org/10.1038/nmeth.4151'), CiteEntry(text='data', doi=None, url='https://www.nature.com/articles/s41592-019-0612-7')]\n",
      "\n",
      " GitHub repository: None\n",
      "\n",
      "Covers of the model 'NucleiSegmentationBoundaryModel'\n"
     ]
    },
    {
     "name": "stderr",
     "output_type": "stream",
     "text": [
      "/var/folders/_d/q8wfkdk54p70jv5jwwp1yrtd9px3jt/T/ipykernel_64081/3290842921.py:18: DeprecationWarning: Starting with ImageIO v3 the behavior of this function will switch to that of iio.v3.imread. To keep the current behavior (and make this warning disappear) use `import imageio.v2 as imageio` or call `imageio.v2.imread` directly.\n",
      "  cover_data = imread(download(cover).path)\n"
     ]
    },
    {
     "ename": "ImportError",
     "evalue": "dlopen(/opt/homebrew/Caskroom/miniconda/base/envs/bioimageiocore/lib/python3.12/site-packages/PIL/_imaging.cpython-312-darwin.so, 0x0002): Library not loaded: '@rpath/libtiff.5.dylib'\n  Referenced from: '/opt/homebrew/Caskroom/miniconda/base/envs/bioimageiocore/lib/python3.12/site-packages/PIL/_imaging.cpython-312-darwin.so'\n  Reason: tried: '/opt/homebrew/Caskroom/miniconda/base/envs/bioimageiocore/lib/python3.12/site-packages/PIL/../../../libtiff.5.dylib' (no such file), '/opt/homebrew/Caskroom/miniconda/base/envs/bioimageiocore/lib/python3.12/site-packages/PIL/../../../libtiff.5.dylib' (no such file), '/opt/homebrew/Caskroom/miniconda/base/envs/bioimageiocore/bin/../lib/libtiff.5.dylib' (no such file), '/opt/homebrew/Caskroom/miniconda/base/envs/bioimageiocore/bin/../lib/libtiff.5.dylib' (no such file), '/usr/local/lib/libtiff.5.dylib' (no such file), '/usr/lib/libtiff.5.dylib' (no such file)",
     "output_type": "error",
     "traceback": [
      "\u001b[0;31m---------------------------------------------------------------------------\u001b[0m",
      "\u001b[0;31mImportError\u001b[0m                               Traceback (most recent call last)",
      "Cell \u001b[0;32mIn[7], line 18\u001b[0m\n\u001b[1;32m     16\u001b[0m \u001b[38;5;28mprint\u001b[39m(\u001b[38;5;124mf\u001b[39m\u001b[38;5;124m\"\u001b[39m\u001b[38;5;124mCovers of the model \u001b[39m\u001b[38;5;124m'\u001b[39m\u001b[38;5;132;01m{\u001b[39;00mmodel\u001b[38;5;241m.\u001b[39mname\u001b[38;5;132;01m}\u001b[39;00m\u001b[38;5;124m'\u001b[39m\u001b[38;5;124m\"\u001b[39m)\n\u001b[1;32m     17\u001b[0m \u001b[38;5;28;01mfor\u001b[39;00m cover \u001b[38;5;129;01min\u001b[39;00m model\u001b[38;5;241m.\u001b[39mcovers:\n\u001b[0;32m---> 18\u001b[0m     cover_data \u001b[38;5;241m=\u001b[39m \u001b[43mimread\u001b[49m\u001b[43m(\u001b[49m\u001b[43mdownload\u001b[49m\u001b[43m(\u001b[49m\u001b[43mcover\u001b[49m\u001b[43m)\u001b[49m\u001b[38;5;241;43m.\u001b[39;49m\u001b[43mpath\u001b[49m\u001b[43m)\u001b[49m\n\u001b[1;32m     19\u001b[0m     plt\u001b[38;5;241m.\u001b[39mfigure(figsize\u001b[38;5;241m=\u001b[39m(\u001b[38;5;241m10\u001b[39m, \u001b[38;5;241m10\u001b[39m))\n\u001b[1;32m     20\u001b[0m     plt\u001b[38;5;241m.\u001b[39mimshow(cover_data)\n",
      "File \u001b[0;32m/opt/homebrew/Caskroom/miniconda/base/envs/bioimageiocore/lib/python3.12/site-packages/imageio/__init__.py:97\u001b[0m, in \u001b[0;36mimread\u001b[0;34m(uri, format, **kwargs)\u001b[0m\n\u001b[1;32m     68\u001b[0m \u001b[38;5;250m\u001b[39m\u001b[38;5;124;03m\"\"\"imread(uri, format=None, **kwargs)\u001b[39;00m\n\u001b[1;32m     69\u001b[0m \n\u001b[1;32m     70\u001b[0m \u001b[38;5;124;03mReads an image from the specified file. Returns a numpy array, which\u001b[39;00m\n\u001b[0;32m   (...)\u001b[0m\n\u001b[1;32m     86\u001b[0m \u001b[38;5;124;03m    to see what arguments are available for a particular format.\u001b[39;00m\n\u001b[1;32m     87\u001b[0m \u001b[38;5;124;03m\"\"\"\u001b[39;00m\n\u001b[1;32m     89\u001b[0m warnings\u001b[38;5;241m.\u001b[39mwarn(\n\u001b[1;32m     90\u001b[0m     \u001b[38;5;124m\"\u001b[39m\u001b[38;5;124mStarting with ImageIO v3 the behavior of this function will switch to that of\u001b[39m\u001b[38;5;124m\"\u001b[39m\n\u001b[1;32m     91\u001b[0m     \u001b[38;5;124m\"\u001b[39m\u001b[38;5;124m iio.v3.imread. To keep the current behavior (and make this warning disappear)\u001b[39m\u001b[38;5;124m\"\u001b[39m\n\u001b[0;32m   (...)\u001b[0m\n\u001b[1;32m     94\u001b[0m     stacklevel\u001b[38;5;241m=\u001b[39m\u001b[38;5;241m2\u001b[39m,\n\u001b[1;32m     95\u001b[0m )\n\u001b[0;32m---> 97\u001b[0m \u001b[38;5;28;01mreturn\u001b[39;00m \u001b[43mimread_v2\u001b[49m\u001b[43m(\u001b[49m\u001b[43muri\u001b[49m\u001b[43m,\u001b[49m\u001b[43m \u001b[49m\u001b[38;5;28;43mformat\u001b[39;49m\u001b[38;5;241;43m=\u001b[39;49m\u001b[38;5;28;43mformat\u001b[39;49m\u001b[43m,\u001b[49m\u001b[43m \u001b[49m\u001b[38;5;241;43m*\u001b[39;49m\u001b[38;5;241;43m*\u001b[39;49m\u001b[43mkwargs\u001b[49m\u001b[43m)\u001b[49m\n",
      "File \u001b[0;32m/opt/homebrew/Caskroom/miniconda/base/envs/bioimageiocore/lib/python3.12/site-packages/imageio/v2.py:359\u001b[0m, in \u001b[0;36mimread\u001b[0;34m(uri, format, **kwargs)\u001b[0m\n\u001b[1;32m    356\u001b[0m imopen_args \u001b[38;5;241m=\u001b[39m decypher_format_arg(\u001b[38;5;28mformat\u001b[39m)\n\u001b[1;32m    357\u001b[0m imopen_args[\u001b[38;5;124m\"\u001b[39m\u001b[38;5;124mlegacy_mode\u001b[39m\u001b[38;5;124m\"\u001b[39m] \u001b[38;5;241m=\u001b[39m \u001b[38;5;28;01mTrue\u001b[39;00m\n\u001b[0;32m--> 359\u001b[0m \u001b[38;5;28;01mwith\u001b[39;00m \u001b[43mimopen\u001b[49m\u001b[43m(\u001b[49m\u001b[43muri\u001b[49m\u001b[43m,\u001b[49m\u001b[43m \u001b[49m\u001b[38;5;124;43m\"\u001b[39;49m\u001b[38;5;124;43mri\u001b[39;49m\u001b[38;5;124;43m\"\u001b[39;49m\u001b[43m,\u001b[49m\u001b[43m \u001b[49m\u001b[38;5;241;43m*\u001b[39;49m\u001b[38;5;241;43m*\u001b[39;49m\u001b[43mimopen_args\u001b[49m\u001b[43m)\u001b[49m \u001b[38;5;28;01mas\u001b[39;00m file:\n\u001b[1;32m    360\u001b[0m     result \u001b[38;5;241m=\u001b[39m file\u001b[38;5;241m.\u001b[39mread(index\u001b[38;5;241m=\u001b[39m\u001b[38;5;241m0\u001b[39m, \u001b[38;5;241m*\u001b[39m\u001b[38;5;241m*\u001b[39mkwargs)\n\u001b[1;32m    362\u001b[0m \u001b[38;5;28;01mreturn\u001b[39;00m result\n",
      "File \u001b[0;32m/opt/homebrew/Caskroom/miniconda/base/envs/bioimageiocore/lib/python3.12/site-packages/imageio/core/imopen.py:196\u001b[0m, in \u001b[0;36mimopen\u001b[0;34m(uri, io_mode, plugin, extension, format_hint, legacy_mode, **kwargs)\u001b[0m\n\u001b[1;32m    193\u001b[0m     \u001b[38;5;28;01mcontinue\u001b[39;00m\n\u001b[1;32m    195\u001b[0m \u001b[38;5;28;01mtry\u001b[39;00m:\n\u001b[0;32m--> 196\u001b[0m     plugin_instance \u001b[38;5;241m=\u001b[39m \u001b[43mcandidate_plugin\u001b[49m\u001b[43m(\u001b[49m\u001b[43mrequest\u001b[49m\u001b[43m,\u001b[49m\u001b[43m \u001b[49m\u001b[38;5;241;43m*\u001b[39;49m\u001b[38;5;241;43m*\u001b[39;49m\u001b[43mkwargs\u001b[49m\u001b[43m)\u001b[49m\n\u001b[1;32m    197\u001b[0m \u001b[38;5;28;01mexcept\u001b[39;00m InitializationError:\n\u001b[1;32m    198\u001b[0m     \u001b[38;5;66;03m# file extension doesn't match file type\u001b[39;00m\n\u001b[1;32m    199\u001b[0m     \u001b[38;5;28;01mcontinue\u001b[39;00m\n",
      "File \u001b[0;32m/opt/homebrew/Caskroom/miniconda/base/envs/bioimageiocore/lib/python3.12/site-packages/imageio/config/plugins.py:107\u001b[0m, in \u001b[0;36mPluginConfig.plugin_class.<locals>.partial_legacy_plugin\u001b[0;34m(request)\u001b[0m\n\u001b[1;32m    106\u001b[0m \u001b[38;5;28;01mdef\u001b[39;00m \u001b[38;5;21mpartial_legacy_plugin\u001b[39m(request):\n\u001b[0;32m--> 107\u001b[0m     \u001b[38;5;28;01mreturn\u001b[39;00m \u001b[43mLegacyPlugin\u001b[49m\u001b[43m(\u001b[49m\u001b[43mrequest\u001b[49m\u001b[43m,\u001b[49m\u001b[43m \u001b[49m\u001b[43mlegacy_plugin\u001b[49m\u001b[43m)\u001b[49m\n",
      "File \u001b[0;32m/opt/homebrew/Caskroom/miniconda/base/envs/bioimageiocore/lib/python3.12/site-packages/imageio/core/legacy_plugin_wrapper.py:80\u001b[0m, in \u001b[0;36mLegacyPlugin.__init__\u001b[0;34m(self, request, legacy_plugin)\u001b[0m\n\u001b[1;32m     74\u001b[0m source \u001b[38;5;241m=\u001b[39m (\n\u001b[1;32m     75\u001b[0m     \u001b[38;5;124m\"\u001b[39m\u001b[38;5;124m<bytes>\u001b[39m\u001b[38;5;124m\"\u001b[39m\n\u001b[1;32m     76\u001b[0m     \u001b[38;5;28;01mif\u001b[39;00m \u001b[38;5;28misinstance\u001b[39m(\u001b[38;5;28mself\u001b[39m\u001b[38;5;241m.\u001b[39m_request\u001b[38;5;241m.\u001b[39mraw_uri, \u001b[38;5;28mbytes\u001b[39m)\n\u001b[1;32m     77\u001b[0m     \u001b[38;5;28;01melse\u001b[39;00m \u001b[38;5;28mself\u001b[39m\u001b[38;5;241m.\u001b[39m_request\u001b[38;5;241m.\u001b[39mraw_uri\n\u001b[1;32m     78\u001b[0m )\n\u001b[1;32m     79\u001b[0m \u001b[38;5;28;01mif\u001b[39;00m \u001b[38;5;28mself\u001b[39m\u001b[38;5;241m.\u001b[39m_request\u001b[38;5;241m.\u001b[39mmode\u001b[38;5;241m.\u001b[39mio_mode \u001b[38;5;241m==\u001b[39m IOMode\u001b[38;5;241m.\u001b[39mread:\n\u001b[0;32m---> 80\u001b[0m     \u001b[38;5;28;01mif\u001b[39;00m \u001b[38;5;129;01mnot\u001b[39;00m \u001b[38;5;28;43mself\u001b[39;49m\u001b[38;5;241;43m.\u001b[39;49m\u001b[43m_format\u001b[49m\u001b[38;5;241;43m.\u001b[39;49m\u001b[43mcan_read\u001b[49m\u001b[43m(\u001b[49m\u001b[43mrequest\u001b[49m\u001b[43m)\u001b[49m:\n\u001b[1;32m     81\u001b[0m         \u001b[38;5;28;01mraise\u001b[39;00m InitializationError(\n\u001b[1;32m     82\u001b[0m             \u001b[38;5;124mf\u001b[39m\u001b[38;5;124m\"\u001b[39m\u001b[38;5;124m`\u001b[39m\u001b[38;5;132;01m{\u001b[39;00m\u001b[38;5;28mself\u001b[39m\u001b[38;5;241m.\u001b[39m_format\u001b[38;5;241m.\u001b[39mname\u001b[38;5;132;01m}\u001b[39;00m\u001b[38;5;124m`\u001b[39m\u001b[38;5;124m\"\u001b[39m \u001b[38;5;124mf\u001b[39m\u001b[38;5;124m\"\u001b[39m\u001b[38;5;124m can not read `\u001b[39m\u001b[38;5;132;01m{\u001b[39;00msource\u001b[38;5;132;01m}\u001b[39;00m\u001b[38;5;124m`.\u001b[39m\u001b[38;5;124m\"\u001b[39m\n\u001b[1;32m     83\u001b[0m         )\n\u001b[1;32m     84\u001b[0m \u001b[38;5;28;01melse\u001b[39;00m:\n",
      "File \u001b[0;32m/opt/homebrew/Caskroom/miniconda/base/envs/bioimageiocore/lib/python3.12/site-packages/imageio/core/format.py:242\u001b[0m, in \u001b[0;36mFormat.can_read\u001b[0;34m(self, request)\u001b[0m\n\u001b[1;32m    237\u001b[0m \u001b[38;5;28;01mdef\u001b[39;00m \u001b[38;5;21mcan_read\u001b[39m(\u001b[38;5;28mself\u001b[39m, request):\n\u001b[1;32m    238\u001b[0m \u001b[38;5;250m    \u001b[39m\u001b[38;5;124;03m\"\"\"can_read(request)\u001b[39;00m\n\u001b[1;32m    239\u001b[0m \n\u001b[1;32m    240\u001b[0m \u001b[38;5;124;03m    Get whether this format can read data from the specified uri.\u001b[39;00m\n\u001b[1;32m    241\u001b[0m \u001b[38;5;124;03m    \"\"\"\u001b[39;00m\n\u001b[0;32m--> 242\u001b[0m     \u001b[38;5;28;01mreturn\u001b[39;00m \u001b[38;5;28;43mself\u001b[39;49m\u001b[38;5;241;43m.\u001b[39;49m\u001b[43m_can_read\u001b[49m\u001b[43m(\u001b[49m\u001b[43mrequest\u001b[49m\u001b[43m)\u001b[49m\n",
      "File \u001b[0;32m/opt/homebrew/Caskroom/miniconda/base/envs/bioimageiocore/lib/python3.12/site-packages/imageio/plugins/pillow_legacy.py:263\u001b[0m, in \u001b[0;36mPillowFormat._can_read\u001b[0;34m(self, request)\u001b[0m\n\u001b[1;32m    262\u001b[0m \u001b[38;5;28;01mdef\u001b[39;00m \u001b[38;5;21m_can_read\u001b[39m(\u001b[38;5;28mself\u001b[39m, request):\n\u001b[0;32m--> 263\u001b[0m     Image \u001b[38;5;241m=\u001b[39m \u001b[38;5;28;43mself\u001b[39;49m\u001b[38;5;241;43m.\u001b[39;49m\u001b[43m_init_pillow\u001b[49m\u001b[43m(\u001b[49m\u001b[43m)\u001b[49m\n\u001b[1;32m    264\u001b[0m     \u001b[38;5;28;01mif\u001b[39;00m \u001b[38;5;28mself\u001b[39m\u001b[38;5;241m.\u001b[39mplugin_id \u001b[38;5;129;01min\u001b[39;00m Image\u001b[38;5;241m.\u001b[39mOPEN:\n\u001b[1;32m    265\u001b[0m         factory, accept \u001b[38;5;241m=\u001b[39m Image\u001b[38;5;241m.\u001b[39mOPEN[\u001b[38;5;28mself\u001b[39m\u001b[38;5;241m.\u001b[39mplugin_id]\n",
      "File \u001b[0;32m/opt/homebrew/Caskroom/miniconda/base/envs/bioimageiocore/lib/python3.12/site-packages/imageio/plugins/pillow_legacy.py:249\u001b[0m, in \u001b[0;36mPillowFormat._init_pillow\u001b[0;34m(self)\u001b[0m\n\u001b[1;32m    245\u001b[0m     \u001b[38;5;28;01mif\u001b[39;00m \u001b[38;5;129;01mnot\u001b[39;00m \u001b[38;5;28mhasattr\u001b[39m(PIL, \u001b[38;5;124m\"\u001b[39m\u001b[38;5;124m__version__\u001b[39m\u001b[38;5;124m\"\u001b[39m):  \u001b[38;5;66;03m# pragma: no cover\u001b[39;00m\n\u001b[1;32m    246\u001b[0m         \u001b[38;5;28;01mraise\u001b[39;00m \u001b[38;5;167;01mImportError\u001b[39;00m(\n\u001b[1;32m    247\u001b[0m             \u001b[38;5;124m\"\u001b[39m\u001b[38;5;124mImageio Pillow plugin requires \u001b[39m\u001b[38;5;124m\"\u001b[39m \u001b[38;5;124m\"\u001b[39m\u001b[38;5;124mPillow, not PIL!\u001b[39m\u001b[38;5;124m\"\u001b[39m\n\u001b[1;32m    248\u001b[0m         )\n\u001b[0;32m--> 249\u001b[0m     \u001b[38;5;28;01mfrom\u001b[39;00m \u001b[38;5;21;01mPIL\u001b[39;00m \u001b[38;5;28;01mimport\u001b[39;00m Image\n\u001b[1;32m    251\u001b[0m     \u001b[38;5;28mself\u001b[39m\u001b[38;5;241m.\u001b[39m_Image \u001b[38;5;241m=\u001b[39m Image\n\u001b[1;32m    252\u001b[0m \u001b[38;5;28;01melif\u001b[39;00m \u001b[38;5;28mself\u001b[39m\u001b[38;5;241m.\u001b[39m_Image \u001b[38;5;129;01mis\u001b[39;00m \u001b[38;5;28;01mNone\u001b[39;00m:  \u001b[38;5;66;03m# pragma: no cover\u001b[39;00m\n",
      "File \u001b[0;32m/opt/homebrew/Caskroom/miniconda/base/envs/bioimageiocore/lib/python3.12/site-packages/PIL/Image.py:88\u001b[0m\n\u001b[1;32m     79\u001b[0m MAX_IMAGE_PIXELS: \u001b[38;5;28mint\u001b[39m \u001b[38;5;241m|\u001b[39m \u001b[38;5;28;01mNone\u001b[39;00m \u001b[38;5;241m=\u001b[39m \u001b[38;5;28mint\u001b[39m(\u001b[38;5;241m1024\u001b[39m \u001b[38;5;241m*\u001b[39m \u001b[38;5;241m1024\u001b[39m \u001b[38;5;241m*\u001b[39m \u001b[38;5;241m1024\u001b[39m \u001b[38;5;241m/\u001b[39m\u001b[38;5;241m/\u001b[39m \u001b[38;5;241m4\u001b[39m \u001b[38;5;241m/\u001b[39m\u001b[38;5;241m/\u001b[39m \u001b[38;5;241m3\u001b[39m)\n\u001b[1;32m     82\u001b[0m \u001b[38;5;28;01mtry\u001b[39;00m:\n\u001b[1;32m     83\u001b[0m     \u001b[38;5;66;03m# If the _imaging C module is not present, Pillow will not load.\u001b[39;00m\n\u001b[1;32m     84\u001b[0m     \u001b[38;5;66;03m# Note that other modules should not refer to _imaging directly;\u001b[39;00m\n\u001b[1;32m     85\u001b[0m     \u001b[38;5;66;03m# import Image and use the Image.core variable instead.\u001b[39;00m\n\u001b[1;32m     86\u001b[0m     \u001b[38;5;66;03m# Also note that Image.core is not a publicly documented interface,\u001b[39;00m\n\u001b[1;32m     87\u001b[0m     \u001b[38;5;66;03m# and should be considered private and subject to change.\u001b[39;00m\n\u001b[0;32m---> 88\u001b[0m     \u001b[38;5;28;01mfrom\u001b[39;00m \u001b[38;5;21;01m.\u001b[39;00m \u001b[38;5;28;01mimport\u001b[39;00m _imaging \u001b[38;5;28;01mas\u001b[39;00m core\n\u001b[1;32m     90\u001b[0m     \u001b[38;5;28;01mif\u001b[39;00m __version__ \u001b[38;5;241m!=\u001b[39m \u001b[38;5;28mgetattr\u001b[39m(core, \u001b[38;5;124m\"\u001b[39m\u001b[38;5;124mPILLOW_VERSION\u001b[39m\u001b[38;5;124m\"\u001b[39m, \u001b[38;5;28;01mNone\u001b[39;00m):\n\u001b[1;32m     91\u001b[0m         msg \u001b[38;5;241m=\u001b[39m (\n\u001b[1;32m     92\u001b[0m             \u001b[38;5;124m\"\u001b[39m\u001b[38;5;124mThe _imaging extension was built for another version of Pillow or PIL:\u001b[39m\u001b[38;5;130;01m\\n\u001b[39;00m\u001b[38;5;124m\"\u001b[39m\n\u001b[1;32m     93\u001b[0m             \u001b[38;5;124mf\u001b[39m\u001b[38;5;124m\"\u001b[39m\u001b[38;5;124mCore version: \u001b[39m\u001b[38;5;132;01m{\u001b[39;00m\u001b[38;5;28mgetattr\u001b[39m(core,\u001b[38;5;250m \u001b[39m\u001b[38;5;124m'\u001b[39m\u001b[38;5;124mPILLOW_VERSION\u001b[39m\u001b[38;5;124m'\u001b[39m,\u001b[38;5;250m \u001b[39m\u001b[38;5;28;01mNone\u001b[39;00m)\u001b[38;5;132;01m}\u001b[39;00m\u001b[38;5;130;01m\\n\u001b[39;00m\u001b[38;5;124m\"\u001b[39m\n\u001b[1;32m     94\u001b[0m             \u001b[38;5;124mf\u001b[39m\u001b[38;5;124m\"\u001b[39m\u001b[38;5;124mPillow version: \u001b[39m\u001b[38;5;132;01m{\u001b[39;00m__version__\u001b[38;5;132;01m}\u001b[39;00m\u001b[38;5;124m\"\u001b[39m\n\u001b[1;32m     95\u001b[0m         )\n",
      "\u001b[0;31mImportError\u001b[0m: dlopen(/opt/homebrew/Caskroom/miniconda/base/envs/bioimageiocore/lib/python3.12/site-packages/PIL/_imaging.cpython-312-darwin.so, 0x0002): Library not loaded: '@rpath/libtiff.5.dylib'\n  Referenced from: '/opt/homebrew/Caskroom/miniconda/base/envs/bioimageiocore/lib/python3.12/site-packages/PIL/_imaging.cpython-312-darwin.so'\n  Reason: tried: '/opt/homebrew/Caskroom/miniconda/base/envs/bioimageiocore/lib/python3.12/site-packages/PIL/../../../libtiff.5.dylib' (no such file), '/opt/homebrew/Caskroom/miniconda/base/envs/bioimageiocore/lib/python3.12/site-packages/PIL/../../../libtiff.5.dylib' (no such file), '/opt/homebrew/Caskroom/miniconda/base/envs/bioimageiocore/bin/../lib/libtiff.5.dylib' (no such file), '/opt/homebrew/Caskroom/miniconda/base/envs/bioimageiocore/bin/../lib/libtiff.5.dylib' (no such file), '/usr/local/lib/libtiff.5.dylib' (no such file), '/usr/lib/libtiff.5.dylib' (no such file)"
     ]
    }
   ],
   "source": [
    "print(f\"The model '{model.name}' had the following properties and metadata\")\n",
    "print()\n",
    "print(f\" Description {model.description}\")\n",
    "print()\n",
    "print(f\" The authors of the model are {model.authors}\")\n",
    "print(f\" and it is maintained by: {model.maintainers}\")\n",
    "print(f\" License: {model.license}\")\n",
    "print()\n",
    "\n",
    "print(f\" If you use this model, you are expected to cite {model.cite}\")\n",
    "print()\n",
    "print(f\" Further documentation can be found here: {model.cite}\")\n",
    "print()\n",
    "print(f\" GitHub repository: {model.git_repo}\")\n",
    "print()\n",
    "print(f\"Covers of the model '{model.name}'\")\n",
    "for cover in model.covers:\n",
    "    cover_data = imread(download(cover).path)\n",
    "    plt.figure(figsize=(10, 10))\n",
    "    plt.imshow(cover_data)\n",
    "    plt.xticks([])\n",
    "    plt.yticks([])\n",
    "    plt.show()\n"
   ]
  },
  {
   "cell_type": "code",
   "execution_count": 8,
   "metadata": {},
   "outputs": [
    {
     "name": "stderr",
     "output_type": "stream",
     "text": [
      "\u001b[32m2024-05-09 16:58:08.286\u001b[0m | \u001b[1mINFO    \u001b[0m | \u001b[36mbioimageio.spec._internal.io_utils\u001b[0m:\u001b[36mopen_bioimageio_yaml\u001b[0m:\u001b[36m115\u001b[0m - \u001b[1m🦈 loading affable-shark 1 from https://uk1s3.embassy.ebi.ac.uk/public-datasets/bioimage.io/affable-shark/1/files/rdf.yaml\u001b[0m\n"
     ]
    },
    {
     "data": {
      "text/markdown": [
       "❌ bioimageio validation: failed\n",
       "\n",
       "source: https://uk1s3.embassy.ebi.ac.uk/public-datasets/bioimage.io/affable-shark/1/files/rdf.yaml\n",
       "|     package     |  version   |\n",
       "|       ---       |    ---     |\n",
       "| bioimageio.spec | 0.5.2post4 |\n",
       "| bioimageio.core | 0.6.3      |\n",
       "\n",
       "\n",
       "|  ❓  |                  location                 |                                                                                                                                                                                            detail                                                                                                                                                                                           |\n",
       "| --- |                    ---                    |                                                                                                                                                                                             ---                                                                                                                                                                                             |\n",
       "| ✔️  |                                           | initialized model 0.4.10                                                                                                                                                                                                                                                                                                                                                                    |\n",
       "| ✔️  |                                           | bioimageio.spec format validation model 0.4.10                                                                                                                                                                                                                                                                                                                                              |\n",
       "| ⚠   | `weights.pytorch_state_dict.dependencies` | Custom dependencies (conda:environment.yaml) specified. Avoid this whenever possible to allow execution in a wider range of software environments.                                                                                                                                                                                                                                          |\n",
       "|     |                                           |                                                                                                                                                                                                                                                                                                                                                                                             |\n",
       "| ❌   |                                           | Reproduce test outputs from test inputs                                                                                                                                                                                                                                                                                                                                                     |\n",
       "| ❌   | `weights`                                 | \"batch_norm\" not implemented for 'Byte'                                                                                                                                                                                                                                                                                                                                                     |\n",
       "|     |                                           | [_resource_tests.py](_resource_tests.py \"/opt/homebrew/Caskroom/miniconda/base/envs/bioimageiocore/lib/python3.12/site-packages/bioimageio/core/_resource_tests.py\"), line 129, in _test_model_inference<br>`    results = prediction_pipeline.predict_sample_without_blocking(inputs)`<br>`              ^^^^^^^^^^^^^^^^^^^^^^^^^^^^^^^^^^^^^^^^^^^^^^^^^^^^^^^^^^^`                      |\n",
       "|     |                                           | [_prediction_pipeline.py](_prediction_pipeline.py \"/opt/homebrew/Caskroom/miniconda/base/envs/bioimageiocore/lib/python3.12/site-packages/bioimageio/core/_prediction_pipeline.py\"), line 160, in predict_sample_without_blocking<br>`    self._adapter.forward(`                                                                                                                           |\n",
       "|     |                                           | [_pytorch_model_adapter.py](_pytorch_model_adapter.py \"/opt/homebrew/Caskroom/miniconda/base/envs/bioimageiocore/lib/python3.12/site-packages/bioimageio/core/model_adapters/_pytorch_model_adapter.py\"), line 67, in forward<br>`    result = self._network(  # pyright: ignore[reportUnknownVariableType]`<br>`             ^^^^^^^^^^^^^^^^^^^^^^^^^^^^^^^^^^^^^^^^^^^^^^^^^^^^^^^^^^^^` |\n",
       "|     |                                           | [module.py](module.py \"/opt/homebrew/Caskroom/miniconda/base/envs/bioimageiocore/lib/python3.12/site-packages/torch/nn/modules/module.py\"), line 1532, in _wrapped_call_impl<br>`    return self._call_impl(*args, **kwargs)`<br>`           ^^^^^^^^^^^^^^^^^^^^^^^^^^^^^^^^`                                                                                                              |\n",
       "|     |                                           | [module.py](module.py \"/opt/homebrew/Caskroom/miniconda/base/envs/bioimageiocore/lib/python3.12/site-packages/torch/nn/modules/module.py\"), line 1541, in _call_impl<br>`    return forward_call(*args, **kwargs)`<br>`           ^^^^^^^^^^^^^^^^^^^^^^^^^^^^^`                                                                                                                            |\n",
       "|     |                                           | [d9e1780d938d2ad512b15843d55363a2-unet.py](d9e1780d938d2ad512b15843d55363a2-unet.py \"/Users/marianaferreira/Library/Caches/bioimageio/d9e1780d938d2ad512b15843d55363a2-unet.py\"), line 206, in forward<br>`    return self._apply_default(x)`<br>`           ^^^^^^^^^^^^^^^^^^^^^^`                                                                                                        |\n",
       "|     |                                           | [d9e1780d938d2ad512b15843d55363a2-unet.py](d9e1780d938d2ad512b15843d55363a2-unet.py \"/Users/marianaferreira/Library/Caches/bioimageio/d9e1780d938d2ad512b15843d55363a2-unet.py\"), line 169, in _apply_default<br>`    x, encoder_out = self.encoder(x)`<br>`                     ^^^^^^^^^^^^^^^`                                                                                           |\n",
       "|     |                                           | [module.py](module.py \"/opt/homebrew/Caskroom/miniconda/base/envs/bioimageiocore/lib/python3.12/site-packages/torch/nn/modules/module.py\"), line 1532, in _wrapped_call_impl<br>`    return self._call_impl(*args, **kwargs)`<br>`           ^^^^^^^^^^^^^^^^^^^^^^^^^^^^^^^^`                                                                                                              |\n",
       "|     |                                           | [module.py](module.py \"/opt/homebrew/Caskroom/miniconda/base/envs/bioimageiocore/lib/python3.12/site-packages/torch/nn/modules/module.py\"), line 1541, in _call_impl<br>`    return forward_call(*args, **kwargs)`<br>`           ^^^^^^^^^^^^^^^^^^^^^^^^^^^^^`                                                                                                                            |\n",
       "|     |                                           | [d9e1780d938d2ad512b15843d55363a2-unet.py](d9e1780d938d2ad512b15843d55363a2-unet.py \"/Users/marianaferreira/Library/Caches/bioimageio/d9e1780d938d2ad512b15843d55363a2-unet.py\"), line 265, in forward<br>`    x = block(x)`<br>`        ^^^^^^^^`                                                                                                                                          |\n",
       "|     |                                           | [module.py](module.py \"/opt/homebrew/Caskroom/miniconda/base/envs/bioimageiocore/lib/python3.12/site-packages/torch/nn/modules/module.py\"), line 1532, in _wrapped_call_impl<br>`    return self._call_impl(*args, **kwargs)`<br>`           ^^^^^^^^^^^^^^^^^^^^^^^^^^^^^^^^`                                                                                                              |\n",
       "|     |                                           | [module.py](module.py \"/opt/homebrew/Caskroom/miniconda/base/envs/bioimageiocore/lib/python3.12/site-packages/torch/nn/modules/module.py\"), line 1541, in _call_impl<br>`    return forward_call(*args, **kwargs)`<br>`           ^^^^^^^^^^^^^^^^^^^^^^^^^^^^^`                                                                                                                            |\n",
       "|     |                                           | [d9e1780d938d2ad512b15843d55363a2-unet.py](d9e1780d938d2ad512b15843d55363a2-unet.py \"/Users/marianaferreira/Library/Caches/bioimageio/d9e1780d938d2ad512b15843d55363a2-unet.py\"), line 384, in forward<br>`    return self.block(x)`<br>`           ^^^^^^^^^^^^^`                                                                                                                          |\n",
       "|     |                                           | [module.py](module.py \"/opt/homebrew/Caskroom/miniconda/base/envs/bioimageiocore/lib/python3.12/site-packages/torch/nn/modules/module.py\"), line 1532, in _wrapped_call_impl<br>`    return self._call_impl(*args, **kwargs)`<br>`           ^^^^^^^^^^^^^^^^^^^^^^^^^^^^^^^^`                                                                                                              |\n",
       "|     |                                           | [module.py](module.py \"/opt/homebrew/Caskroom/miniconda/base/envs/bioimageiocore/lib/python3.12/site-packages/torch/nn/modules/module.py\"), line 1541, in _call_impl<br>`    return forward_call(*args, **kwargs)`<br>`           ^^^^^^^^^^^^^^^^^^^^^^^^^^^^^`                                                                                                                            |\n",
       "|     |                                           | [container.py](container.py \"/opt/homebrew/Caskroom/miniconda/base/envs/bioimageiocore/lib/python3.12/site-packages/torch/nn/modules/container.py\"), line 217, in forward<br>`    input = module(input)`<br>`            ^^^^^^^^^^^^^`                                                                                                                                                     |\n",
       "|     |                                           | [module.py](module.py \"/opt/homebrew/Caskroom/miniconda/base/envs/bioimageiocore/lib/python3.12/site-packages/torch/nn/modules/module.py\"), line 1532, in _wrapped_call_impl<br>`    return self._call_impl(*args, **kwargs)`<br>`           ^^^^^^^^^^^^^^^^^^^^^^^^^^^^^^^^`                                                                                                              |\n",
       "|     |                                           | [module.py](module.py \"/opt/homebrew/Caskroom/miniconda/base/envs/bioimageiocore/lib/python3.12/site-packages/torch/nn/modules/module.py\"), line 1541, in _call_impl<br>`    return forward_call(*args, **kwargs)`<br>`           ^^^^^^^^^^^^^^^^^^^^^^^^^^^^^`                                                                                                                            |\n",
       "|     |                                           | [instancenorm.py](instancenorm.py \"/opt/homebrew/Caskroom/miniconda/base/envs/bioimageiocore/lib/python3.12/site-packages/torch/nn/modules/instancenorm.py\"), line 87, in forward<br>`    return self._apply_instance_norm(input)`<br>`           ^^^^^^^^^^^^^^^^^^^^^^^^^^^^^^^^`                                                                                                         |\n",
       "|     |                                           | [instancenorm.py](instancenorm.py \"/opt/homebrew/Caskroom/miniconda/base/envs/bioimageiocore/lib/python3.12/site-packages/torch/nn/modules/instancenorm.py\"), line 36, in _apply_instance_norm<br>`    return F.instance_norm(`<br>`           ^^^^^^^^^^^^^^^^`                                                                                                                            |\n",
       "|     |                                           | [functional.py](functional.py \"/opt/homebrew/Caskroom/miniconda/base/envs/bioimageiocore/lib/python3.12/site-packages/torch/nn/functional.py\"), line 2553, in instance_norm<br>`    return torch.instance_norm(`<br>`           ^^^^^^^^^^^^^^^^^^^^`                                                                                                                                       |\n",
       "|     |                                           |                                                                                                                                                                                                                                                                                                                                                                                             |\n"
      ],
      "text/plain": [
       "<IPython.core.display.Markdown object>"
      ]
     },
     "metadata": {},
     "output_type": "display_data"
    }
   ],
   "source": [
    "model = bioimageio.core.load_description_and_test('affable-shark')\n",
    "model.validation_summary.display()"
   ]
  },
  {
   "cell_type": "code",
   "execution_count": 10,
   "metadata": {},
   "outputs": [
    {
     "name": "stderr",
     "output_type": "stream",
     "text": [
      "\u001b[32m2024-05-09 16:58:41.586\u001b[0m | \u001b[1mINFO    \u001b[0m | \u001b[36mbioimageio.spec._internal.io_utils\u001b[0m:\u001b[36mopen_bioimageio_yaml\u001b[0m:\u001b[36m115\u001b[0m - \u001b[1m🦈 loading affable-shark 1 from https://uk1s3.embassy.ebi.ac.uk/public-datasets/bioimage.io/affable-shark/1/files/rdf.yaml\u001b[0m\n"
     ]
    },
    {
     "data": {
      "text/markdown": [
       "✔️ bioimageio validation: passed\n",
       "\n",
       "source: https://uk1s3.embassy.ebi.ac.uk/public-datasets/bioimage.io/affable-shark/1/files/rdf.yaml\n",
       "|     package     |  version   |\n",
       "|       ---       |    ---     |\n",
       "| bioimageio.spec | 0.5.2post4 |\n",
       "\n",
       "\n",
       "|  ❓  |                  location                 |                                                                       detail                                                                       |\n",
       "| --- |                    ---                    |                                                                        ---                                                                         |\n",
       "| ✔️  |                                           | initialized model 0.4.10                                                                                                                           |\n",
       "| ✔️  |                                           | bioimageio.spec format validation model 0.4.10                                                                                                     |\n",
       "| ⚠   | `weights.pytorch_state_dict.dependencies` | Custom dependencies (conda:environment.yaml) specified. Avoid this whenever possible to allow execution in a wider range of software environments. |\n",
       "|     |                                           |                                                                                                                                                    |\n"
      ],
      "text/plain": [
       "<IPython.core.display.Markdown object>"
      ]
     },
     "metadata": {},
     "output_type": "display_data"
    }
   ],
   "source": [
    "model = bioimageio.core.load_description('affable-shark')\n",
    "model.validation_summary.display()"
   ]
  },
  {
   "cell_type": "code",
   "execution_count": 11,
   "metadata": {},
   "outputs": [
    {
     "name": "stderr",
     "output_type": "stream",
     "text": [
      "\u001b[32m2024-05-09 16:58:45.301\u001b[0m | \u001b[1mINFO    \u001b[0m | \u001b[36mbioimageio.spec._internal.io_utils\u001b[0m:\u001b[36mopen_bioimageio_yaml\u001b[0m:\u001b[36m115\u001b[0m - \u001b[1m🦈 loading affable-shark 1 from https://uk1s3.embassy.ebi.ac.uk/public-datasets/bioimage.io/affable-shark/1/files/rdf.yaml\u001b[0m\n"
     ]
    },
    {
     "data": {
      "text/plain": [
       "ValidationSummary(name='bioimageio validation', source_name='https://uk1s3.embassy.ebi.ac.uk/public-datasets/bioimage.io/affable-shark/1/files/rdf.yaml', status='passed', details=[ValidationDetail(name='initialized model 0.4.10', status='passed', errors=[], warnings=[]), ValidationDetail(name='bioimageio.spec format validation model 0.4.10', status='passed', errors=[], warnings=[WarningEntry(loc=('weights', 'pytorch_state_dict', 'dependencies'), msg='Custom dependencies (conda:environment.yaml) specified. Avoid this whenever possible to allow execution in a wider range of software environments.', type='warning', severity=30, severity_name='warning')])], env=[{'name': 'bioimageio.spec', 'version': '0.5.2post4'}])"
      ]
     },
     "execution_count": 11,
     "metadata": {},
     "output_type": "execute_result"
    }
   ],
   "source": [
    "model = bioimageio.core.load_description_and_validate_format_only('affable-shark')\n",
    "model"
   ]
  }
 ],
 "metadata": {
  "kernelspec": {
   "display_name": "bioimageio-core",
   "language": "python",
   "name": "python3"
  },
  "language_info": {
   "codemirror_mode": {
    "name": "ipython",
    "version": 3
   },
   "file_extension": ".py",
   "mimetype": "text/x-python",
   "name": "python",
   "nbconvert_exporter": "python",
   "pygments_lexer": "ipython3",
   "version": "3.12.2"
  }
 },
 "nbformat": 4,
 "nbformat_minor": 2
}
